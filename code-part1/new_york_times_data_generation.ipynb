{
 "cells": [
  {
   "cell_type": "code",
   "execution_count": 1,
   "metadata": {},
   "outputs": [],
   "source": [
    "from nytimesarticle import articleAPI\n",
    "api = articleAPI('GQ0savljLHI6xpu3Ubucn85bx9duMW0T')\n",
    "from pprint import pprint\n",
    "import requests  , json\n",
    "from bs4 import BeautifulSoup  \n",
    "import os\n",
    "import re\n",
    "from tqdm import tqdm"
   ]
  },
  {
   "cell_type": "code",
   "execution_count": 2,
   "metadata": {},
   "outputs": [],
   "source": [
    "def parse_articles(articles):\n",
    "    url_array = []\n",
    "    for urls in articles[\"response\"][\"docs\"] :\n",
    "        url_array.append(urls[\"web_url\"])\n",
    "    print(\"Parse articles : \" , len(url_array))\n",
    "    return url_array"
   ]
  },
  {
   "cell_type": "code",
   "execution_count": 3,
   "metadata": {},
   "outputs": [],
   "source": [
    "def get_articles(start_year, end_year,query):\n",
    "    url_from_articles = []\n",
    "    for i in range(0,10): #NYT limits pager to first 100 pages. But rarely will you find over 100 pages of results anyway.\n",
    "        articles = api.search(q = query, begin_date = int(start_year + '0101'), end_date = int(end_year + '1231'), page = i)\n",
    "        urls_got = parse_articles(articles)\n",
    "        url_from_articles.extend(urls_got)\n",
    "        print(len(url_from_articles))\n",
    "    return(url_from_articles)"
   ]
  },
  {
   "cell_type": "code",
   "execution_count": 4,
   "metadata": {
    "scrolled": false
   },
   "outputs": [
    {
     "name": "stdout",
     "output_type": "stream",
     "text": [
      "Parse articles :  10\n",
      "10\n",
      "Parse articles :  10\n",
      "20\n",
      "Parse articles :  10\n",
      "30\n",
      "Parse articles :  10\n",
      "40\n",
      "Parse articles :  10\n",
      "50\n",
      "Parse articles :  10\n",
      "60\n",
      "Parse articles :  10\n",
      "70\n",
      "Parse articles :  10\n",
      "80\n",
      "Parse articles :  10\n",
      "90\n",
      "Parse articles :  10\n",
      "100\n"
     ]
    },
    {
     "name": "stderr",
     "output_type": "stream",
     "text": [
      "100%|████████████████████████████████████████████████████████████████████████████████| 100/100 [01:37<00:00,  1.13s/it]\n"
     ]
    }
   ],
   "source": [
    "start_year = 2018\n",
    "end_year = 2020\n",
    "query_text = [\"crime\",\"kidnap\",\"fraud\",\"assault\",\"domestic abuse\",\"homicide\",\"arson\",\"theft\"]\n",
    "queries = query_text[0]\n",
    "all_urls = []\n",
    "all_urls = get_articles(str(start_year),str(end_year), queries)\n",
    "len(all_urls)\n",
    "\n",
    "counter = 0\n",
    "directory = \"nytimes_data/\"+queries\n",
    "if not os.path.exists(directory):\n",
    "    os.makedirs(directory)\n",
    "for every_url in tqdm(all_urls):\n",
    "    counter+=1\n",
    "    file = open(\"nytimes_data/\"+queries+\"/\"+queries+\"_\"+str(counter)+\".txt\",\"w\") \n",
    "    r = requests.get(every_url)\n",
    "    soup = BeautifulSoup(r.text, 'html.parser')  \n",
    "    results = soup.find_all('p')\n",
    "    for para in results:\n",
    "        data = re.sub(r'[^\\w\\s]',' ',para.text) \n",
    "        file.write(data)\n",
    "        file.write(\"\\n\")\n",
    "    file.close()\n",
    "# pprint(all_urls)"
   ]
  },
  {
   "cell_type": "code",
   "execution_count": null,
   "metadata": {},
   "outputs": [],
   "source": [
    "for urls in all_urls:\n",
    "    print(urls)"
   ]
  },
  {
   "cell_type": "code",
   "execution_count": null,
   "metadata": {},
   "outputs": [],
   "source": [
    "len(all_urls)"
   ]
  },
  {
   "cell_type": "code",
   "execution_count": null,
   "metadata": {},
   "outputs": [],
   "source": [
    "counter = 0\n",
    "for every_url in all_urls:\n",
    "    counter+=1\n",
    "    file = open(\"files/\"+query_text+\"/\"+query_text+\"_\"+str(counter)+\".txt\",\"w\") \n",
    "    r = requests.get(every_url)\n",
    "    soup = BeautifulSoup(r.text, 'html.parser')  \n",
    "    results = soup.find_all('p', attrs={'class':'story-body-text story-content'})\n",
    "    for para in results:\n",
    "        file.write(para.text)\n",
    "        file.write(\"\\n\")\n",
    "    file.close()"
   ]
  },
  {
   "cell_type": "code",
   "execution_count": null,
   "metadata": {},
   "outputs": [],
   "source": [
    "import os\n",
    "directory = 'file/file2'\n",
    "if not os.path.exists(directory):\n",
    "    os.makedirs(directory)"
   ]
  },
  {
   "cell_type": "code",
   "execution_count": null,
   "metadata": {},
   "outputs": [],
   "source": [
    "from stemming.porter2 import stem\n",
    "\n",
    "documents = [\"People Human machine interface for lab abc computer applications\",\n",
    "             \"A survey of user opinion of computer system response time\",\n",
    "             \"The EPS user interface management system\",\n",
    "             \"System and human system engineering testing of EPS\",\n",
    "             \"Relation of user perceived response time to error measurement\",\n",
    "             \"The generation of random binary unordered trees\",\n",
    "             \"The intersection graph of paths in trees\",\n",
    "             \"Graph minors IV Widths of trees and well quasi ordering\",\n",
    "             \"Graph minors A survey\"]\n",
    "\n",
    "documents = [[stem(word) for word in sentence.split(\" \")] for sentence in documents]"
   ]
  },
  {
   "cell_type": "code",
   "execution_count": null,
   "metadata": {},
   "outputs": [],
   "source": [
    "print(documents)"
   ]
  },
  {
   "cell_type": "code",
   "execution_count": null,
   "metadata": {},
   "outputs": [],
   "source": [
    "file = open(\"nytimes_data/\"+queries+\"/\"+queries+\"_\"+str(counter)+\".txt\",\"w\") \n",
    "r = requests.get('https://www.nytimes.com/2019/01/14/us/pennsylvania-drug-gang-indictment.html')\n",
    "soup = BeautifulSoup(r.text, 'html.parser')  \n",
    "results = soup.find_all('p')\n",
    "# print(r.text)\n",
    "for para in results:\n",
    "    file.write(para.text)\n",
    "    file.write(\"\\n\")\n",
    "    print(para.text)\n",
    "file.close()"
   ]
  },
  {
   "cell_type": "code",
   "execution_count": null,
   "metadata": {},
   "outputs": [],
   "source": [
    "pprint(r.text)"
   ]
  },
  {
   "cell_type": "code",
   "execution_count": null,
   "metadata": {},
   "outputs": [],
   "source": []
  },
  {
   "cell_type": "code",
   "execution_count": null,
   "metadata": {},
   "outputs": [],
   "source": []
  }
 ],
 "metadata": {
  "kernelspec": {
   "display_name": "Python 3",
   "language": "python",
   "name": "python3"
  },
  "language_info": {
   "codemirror_mode": {
    "name": "ipython",
    "version": 3
   },
   "file_extension": ".py",
   "mimetype": "text/x-python",
   "name": "python",
   "nbconvert_exporter": "python",
   "pygments_lexer": "ipython3",
   "version": "3.7.2"
  }
 },
 "nbformat": 4,
 "nbformat_minor": 2
}
